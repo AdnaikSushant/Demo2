{
  "nbformat": 4,
  "nbformat_minor": 0,
  "metadata": {
    "colab": {
      "provenance": [],
      "authorship_tag": "ABX9TyPumcZGG/BIv1ct2mQ4xiYB",
      "include_colab_link": true
    },
    "kernelspec": {
      "name": "python3",
      "display_name": "Python 3"
    },
    "language_info": {
      "name": "python"
    }
  },
  "cells": [
    {
      "cell_type": "markdown",
      "metadata": {
        "id": "view-in-github",
        "colab_type": "text"
      },
      "source": [
        "<a href=\"https://colab.research.google.com/github/sush0905/Demo2/blob/main/Conversion.ipynb\" target=\"_parent\"><img src=\"https://colab.research.google.com/assets/colab-badge.svg\" alt=\"Open In Colab\"/></a>"
      ]
    },
    {
      "cell_type": "markdown",
      "source": [
        "**Decimal to Binary**"
      ],
      "metadata": {
        "id": "bslwv9JkI4zW"
      }
    },
    {
      "cell_type": "code",
      "execution_count": 1,
      "metadata": {
        "colab": {
          "base_uri": "https://localhost:8080/",
          "height": 0
        },
        "id": "iFTrzTXSG5YG",
        "outputId": "0dafef3e-78c3-47ee-c63f-0450b061f982"
      },
      "outputs": [
        {
          "output_type": "stream",
          "name": "stdout",
          "text": [
            "Enter Any Decimal Number: 78\n",
            "1001110"
          ]
        }
      ],
      "source": [
        "#decimal to binary\n",
        "n = int(input('Enter Any Decimal Number: '))\n",
        "l=list()\n",
        "while n!=0:\n",
        "    r=n%2\n",
        "    l.append(r)\n",
        "    n=n//2\n",
        "l.reverse()\n",
        "for ele in l:\n",
        "    print(ele,end=\"\")"
      ]
    },
    {
      "cell_type": "markdown",
      "source": [
        "**Decimal to Octal**"
      ],
      "metadata": {
        "id": "_V4Nb4lmJICp"
      }
    },
    {
      "cell_type": "code",
      "source": [
        "#decimal to octal\n",
        "n = int(input('Enter Any Decimal Number: '))\n",
        "temp=n\n",
        "i=1\n",
        "sum=0\n",
        "while temp!=0:\n",
        "    rem=int(temp%8)\n",
        "    sum=sum+i*rem\n",
        "    i=i*10\n",
        "    temp= temp/8\n",
        "print(\"Octal Number: \",sum)"
      ],
      "metadata": {
        "colab": {
          "base_uri": "https://localhost:8080/",
          "height": 0
        },
        "id": "0ZkF_RbJG-Ft",
        "outputId": "969bb27d-71c2-42c3-c3c0-0c216b43e357"
      },
      "execution_count": 2,
      "outputs": [
        {
          "output_type": "stream",
          "name": "stdout",
          "text": [
            "Enter Any Decimal Number: 78\n",
            "Octal Number:  116\n"
          ]
        }
      ]
    },
    {
      "cell_type": "code",
      "source": [],
      "metadata": {
        "id": "1CG04NkVJPwk"
      },
      "execution_count": null,
      "outputs": []
    },
    {
      "cell_type": "markdown",
      "source": [
        "**Hexadecimal to Decimal**"
      ],
      "metadata": {
        "id": "BAGez6vNJRId"
      }
    },
    {
      "cell_type": "code",
      "source": [
        "#hexadecimal to decimal\n",
        "def hexa_dec(hexa):\n",
        "    length=len(hexa)\n",
        "    sum=0\n",
        "    j=0\n",
        "    for i in range(length-1,-1,-1):\n",
        "        if hexa[i]>='0' and hexa[i]<='9':\n",
        "            sum=sum+(ord(hexa[i])-48)*pow(16,j)\n",
        "            j=j+1\n",
        "        elif hexa[i]>='A' and hexa[i]<='F':\n",
        "            sum=sum+(ord(hexa[i])-55)*pow(16,j)\n",
        "            j=j+1\n",
        "   \n",
        "    return sum\n",
        "\n",
        "hexa=input('Enter any Hexadesimal Number: ')\n",
        "print('Decimal value of Hexa',hexa,'=',hexa_dec(hexa))"
      ],
      "metadata": {
        "colab": {
          "base_uri": "https://localhost:8080/",
          "height": 0
        },
        "id": "nH57CZk0HCUS",
        "outputId": "c3132247-afa9-4804-cf17-f68a63007a10"
      },
      "execution_count": 4,
      "outputs": [
        {
          "output_type": "stream",
          "name": "stdout",
          "text": [
            "Enter any Hexadesimal Number: 9A3D\n",
            "Decimal value of Hexa 9A3D = 39485\n"
          ]
        }
      ]
    },
    {
      "cell_type": "markdown",
      "source": [
        "**Decimal to Hexa**"
      ],
      "metadata": {
        "id": "9ZCZxm5qJbdh"
      }
    },
    {
      "cell_type": "code",
      "source": [
        "#decimal to hexa\n",
        "num=int(input('Enter any Decimal Number: '))\n",
        "temp=num\n",
        "hexa=[]\n",
        "result=[]\n",
        "while(temp!=0):\n",
        "    rem=temp%16\n",
        "    if rem < 10:\n",
        "        hexa.append(chr(rem+48))\n",
        "    else:\n",
        "        hexa.append(chr(rem+55))\n",
        "    temp=int(temp/16)\n",
        "j=1\n",
        "for i in hexa:\n",
        "    result.append(hexa[len(hexa)-j])\n",
        "    j=j+1\n",
        "print(result)\n",
        "\n",
        "            "
      ],
      "metadata": {
        "colab": {
          "base_uri": "https://localhost:8080/",
          "height": 0
        },
        "id": "e3TpcnUHHIh7",
        "outputId": "89113855-628d-4ca9-89c8-db08b5afad94"
      },
      "execution_count": 5,
      "outputs": [
        {
          "output_type": "stream",
          "name": "stdout",
          "text": [
            "Enter any Decimal Number: 78\n",
            "['4', 'E']\n"
          ]
        }
      ]
    },
    {
      "cell_type": "markdown",
      "source": [
        "**Octal to Decimal**"
      ],
      "metadata": {
        "id": "CRnHObt2Jgrd"
      }
    },
    {
      "cell_type": "code",
      "source": [
        "#Octal to Decimal\n",
        "def octdec(num):\n",
        "    sum=0\n",
        "    i=0\n",
        "    while num!=0:\n",
        "        rem=num%10\n",
        "        sum+=rem*pow(8,i)\n",
        "        i=i+1\n",
        "        num=int(num/10)\n",
        "    return sum\n",
        "num=int(input('Enter any Octal number: '))\n",
        "dec=octdec(num)\n",
        "print('Decimal value of ',num,'=',dec)"
      ],
      "metadata": {
        "colab": {
          "base_uri": "https://localhost:8080/",
          "height": 0
        },
        "id": "fI7duA0FHOBW",
        "outputId": "92494499-0365-48d6-b2a0-300e80a3e54f"
      },
      "execution_count": 8,
      "outputs": [
        {
          "output_type": "stream",
          "name": "stdout",
          "text": [
            "Enter any Octal number: 140\n",
            "Decimal value of  140 = 96\n"
          ]
        }
      ]
    },
    {
      "cell_type": "markdown",
      "source": [
        "**Binary to Decimal**"
      ],
      "metadata": {
        "id": "URZyqEQ8JmOH"
      }
    },
    {
      "cell_type": "code",
      "source": [
        "#Binary to decimal\n",
        "num=input('Enter Any Binary Number: ')\n",
        "l=list(num)\n",
        "sum=0\n",
        "l.reverse()\n",
        "# print(l)\n",
        "for i in range(len(l)):\n",
        "    sum = sum+int(l[i])*2**i\n",
        "print(sum)"
      ],
      "metadata": {
        "colab": {
          "base_uri": "https://localhost:8080/",
          "height": 0
        },
        "id": "-9q9X_FmHPTy",
        "outputId": "9efa4007-afed-4fac-c9a9-b969d4586779"
      },
      "execution_count": 7,
      "outputs": [
        {
          "output_type": "stream",
          "name": "stdout",
          "text": [
            "Enter Any Binary Number: 1101\n",
            "13\n"
          ]
        }
      ]
    }
  ]
}